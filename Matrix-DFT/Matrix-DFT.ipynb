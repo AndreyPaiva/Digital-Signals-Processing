{
 "cells": [
  {
   "cell_type": "code",
   "execution_count": 52,
   "metadata": {},
   "outputs": [],
   "source": [
    "import numpy as np "
   ]
  },
  {
   "cell_type": "code",
   "execution_count": 53,
   "metadata": {},
   "outputs": [],
   "source": [
    "def MatrixDFT(x, N):\n",
    "\n",
    "    #Zero Padding\n",
    "    signal = np.zeros(N)\n",
    "    signal[:len(x)] = x\n",
    "\n",
    "    W = np.exp(-2j*np.pi/N)\n",
    "\n",
    "    k = np.zeros((N, N), dtype = complex)\n",
    "\n",
    "    for i in range(N):\n",
    "        for j in range(N):\n",
    "            k[i][j] = W**(i*j)\n",
    "\n",
    "    X = np.zeros(N, dtype = complex)\n",
    "\n",
    "    X = np.matmul(k, signal)\n",
    "\n",
    "    return X"
   ]
  },
  {
   "cell_type": "code",
   "execution_count": 54,
   "metadata": {},
   "outputs": [
    {
     "name": "stdout",
     "output_type": "stream",
     "text": [
      "Numpy =  [6.4110177  4.22729938 0.21927354 1.59449034 1.01480919 0.67250986\n",
      " 1.64706019 2.16005166 0.7904308  0.962581   1.09740455 1.46026051\n",
      " 1.98935732 1.288833   0.41414644 0.26171709 0.19811192 0.26171709\n",
      " 0.41414644 1.288833   1.98935732 1.46026051 1.09740455 0.962581\n",
      " 0.7904308  2.16005166 1.64706019 0.67250986 1.01480919 1.59449034\n",
      " 0.21927354 4.22729938]\n",
      "Meu = [6.4110177  4.22729938 0.21927354 1.59449034 1.01480919 0.67250986\n",
      " 1.64706019 2.16005166 0.7904308  0.962581   1.09740455 1.46026051\n",
      " 1.98935732 1.288833   0.41414644 0.26171709 0.19811192 0.26171709\n",
      " 0.41414644 1.288833   1.98935732 1.46026051 1.09740455 0.962581\n",
      " 0.7904308  2.16005166 1.64706019 0.67250986 1.01480919 1.59449034\n",
      " 0.21927354 4.22729938]\n"
     ]
    }
   ],
   "source": [
    "test = np.random.rand(16)\n",
    "numpy = abs(np.fft.fft(test, 32))\n",
    "meu = abs(MatrixDFT(test, 32))\n",
    "\n",
    "print('Numpy =  {}'.format(numpy))\n",
    "print('Meu = {}'.format(meu))"
   ]
  }
 ],
 "metadata": {
  "kernelspec": {
   "display_name": "Python 3",
   "language": "python",
   "name": "python3"
  },
  "language_info": {
   "codemirror_mode": {
    "name": "ipython",
    "version": 3
   },
   "file_extension": ".py",
   "mimetype": "text/x-python",
   "name": "python",
   "nbconvert_exporter": "python",
   "pygments_lexer": "ipython3",
   "version": "3.9.13"
  },
  "orig_nbformat": 4,
  "vscode": {
   "interpreter": {
    "hash": "52fef9f371462526e6c16fbedf2b5b9bc32d90752958a415cf9672d41d7c1c70"
   }
  }
 },
 "nbformat": 4,
 "nbformat_minor": 2
}
