{
 "cells": [
  {
   "cell_type": "code",
   "execution_count": 20,
   "metadata": {},
   "outputs": [],
   "source": [
    "import numpy as np"
   ]
  },
  {
   "cell_type": "code",
   "execution_count": 21,
   "metadata": {},
   "outputs": [],
   "source": [
    "def Time_Decimation_FFT(x, N):\n",
    "    if(N == 1):\n",
    "        return x\n",
    "\n",
    "    W = np.exp(-2j*np.pi/N)\n",
    "\n",
    "    #Zero Padding\n",
    "    signal = np.zeros(N)\n",
    "    signal[:len(x)] = x\n",
    "\n",
    "    #Time Decimation\n",
    "    X_even = Time_Decimation_FFT(signal[0::2], N//2)\n",
    "    X_odd = Time_Decimation_FFT(signal[1::2], N//2)\n",
    "\n",
    "    X = np.zeros(N,dtype=complex)\n",
    "\n",
    "    for k in range(N//2):\n",
    "        X[k] = X_even[k] + (W**k)*X_odd[k]\n",
    "        X[k + N//2] = X_even[k] - (W**k)*X_odd[k]\n",
    "    \n",
    "    return X"
   ]
  },
  {
   "cell_type": "code",
   "execution_count": 23,
   "metadata": {},
   "outputs": [
    {
     "name": "stdout",
     "output_type": "stream",
     "text": [
      "numpy = [9.45066285 6.09972375 1.45494557 1.35615052 1.29535051 1.67799643\n",
      " 0.68457289 1.41903325 0.85234416 1.36134014 1.00137807 1.6476452\n",
      " 0.73100514 2.01530629 1.16392923 0.19154968 0.06215652 0.19154968\n",
      " 1.16392923 2.01530629 0.73100514 1.6476452  1.00137807 1.36134014\n",
      " 0.85234416 1.41903325 0.68457289 1.67799643 1.29535051 1.35615052\n",
      " 1.45494557 6.09972375]\n",
      "mine = [9.45066285 6.09972375 1.45494557 1.35615052 1.29535051 1.67799643\n",
      " 0.68457289 1.41903325 0.85234416 1.36134014 1.00137807 1.6476452\n",
      " 0.73100514 2.01530629 1.16392923 0.19154968 0.06215652 0.19154968\n",
      " 1.16392923 2.01530629 0.73100514 1.6476452  1.00137807 1.36134014\n",
      " 0.85234416 1.41903325 0.68457289 1.67799643 1.29535051 1.35615052\n",
      " 1.45494557 6.09972375]\n"
     ]
    }
   ],
   "source": [
    "test = np.random.rand(16)  #Random array generator\n",
    "npfft = abs(np.fft.fft(test, 32))  #numpy FFT\n",
    "myfft = np.abs(Time_Decimation_FFT(test, 32))  #My FFT\n",
    "\n",
    "print('numpy = {}'.format(npfft))\n",
    "print('mine = {}'.format(myfft))"
   ]
  }
 ],
 "metadata": {
  "kernelspec": {
   "display_name": "Python 3",
   "language": "python",
   "name": "python3"
  },
  "language_info": {
   "codemirror_mode": {
    "name": "ipython",
    "version": 3
   },
   "file_extension": ".py",
   "mimetype": "text/x-python",
   "name": "python",
   "nbconvert_exporter": "python",
   "pygments_lexer": "ipython3",
   "version": "3.9.13"
  },
  "orig_nbformat": 4,
  "vscode": {
   "interpreter": {
    "hash": "52fef9f371462526e6c16fbedf2b5b9bc32d90752958a415cf9672d41d7c1c70"
   }
  }
 },
 "nbformat": 4,
 "nbformat_minor": 2
}
