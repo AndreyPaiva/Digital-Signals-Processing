{
 "cells": [
  {
   "cell_type": "code",
   "execution_count": 20,
   "metadata": {},
   "outputs": [],
   "source": [
    "import numpy as np"
   ]
  },
  {
   "cell_type": "code",
   "execution_count": 21,
   "metadata": {},
   "outputs": [],
   "source": [
    "def Time_Decimation_FFT(x, N):\n",
    "    if(N == 1):\n",
    "        return x\n",
    "\n",
    "    W = np.exp(-2j*np.pi/N)\n",
    "\n",
    "    #Zero Padding\n",
    "    signal = np.zeros(N)\n",
    "    signal[:len(x)] = x\n",
    "\n",
    "    #Time Decimation\n",
    "    X_even = Time_Decimation_FFT(signal[0::2], N//2)\n",
    "    X_odd = Time_Decimation_FFT(signal[1::2], N//2)\n",
    "\n",
    "    X = np.zeros(N,dtype=complex)\n",
    "\n",
    "    for k in range(N//2):\n",
    "        X[k] = X_even[k] + (W**k)*X_odd[k]\n",
    "        X[k + N//2] = X_even[k] - (W**k)*X_odd[k]\n",
    "    \n",
    "    return X"
   ]
  },
  {
   "cell_type": "code",
   "execution_count": 22,
   "metadata": {},
   "outputs": [
    {
     "name": "stdout",
     "output_type": "stream",
     "text": [
      "numpy = [5.56649336 4.21008874 1.48779294 0.83887722 1.35249696 1.44960575\n",
      " 1.47254351 1.00316036 0.4296396  0.75680854 0.85329264 0.99153612\n",
      " 1.2154789  0.93301242 0.09216137 0.54522812 0.56084407 0.54522812\n",
      " 0.09216137 0.93301242 1.2154789  0.99153612 0.85329264 0.75680854\n",
      " 0.4296396  1.00316036 1.47254351 1.44960575 1.35249696 0.83887722\n",
      " 1.48779294 4.21008874]\n",
      "mine = [5.56649336 4.21008874 1.48779294 0.83887722 1.35249696 1.44960575\n",
      " 1.47254351 1.00316036 0.4296396  0.75680854 0.85329264 0.99153612\n",
      " 1.2154789  0.93301242 0.09216137 0.54522812 0.56084407 0.54522812\n",
      " 0.09216137 0.93301242 1.2154789  0.99153612 0.85329264 0.75680854\n",
      " 0.4296396  1.00316036 1.47254351 1.44960575 1.35249696 0.83887722\n",
      " 1.48779294 4.21008874]\n"
     ]
    }
   ],
   "source": [
    "teste = np.random.rand(16)  #Random array generator\n",
    "npfft = abs(np.fft.fft(teste, 32))  #numpy FFT\n",
    "myfft = np.abs(Time_Decimation_FFT(teste, 32))  #My FFT\n",
    "\n",
    "print('numpy = {}'.format(npfft))\n",
    "print('mine = {}'.format(myfft))"
   ]
  }
 ],
 "metadata": {
  "kernelspec": {
   "display_name": "Python 3",
   "language": "python",
   "name": "python3"
  },
  "language_info": {
   "codemirror_mode": {
    "name": "ipython",
    "version": 3
   },
   "file_extension": ".py",
   "mimetype": "text/x-python",
   "name": "python",
   "nbconvert_exporter": "python",
   "pygments_lexer": "ipython3",
   "version": "3.9.13"
  },
  "orig_nbformat": 4,
  "vscode": {
   "interpreter": {
    "hash": "52fef9f371462526e6c16fbedf2b5b9bc32d90752958a415cf9672d41d7c1c70"
   }
  }
 },
 "nbformat": 4,
 "nbformat_minor": 2
}
